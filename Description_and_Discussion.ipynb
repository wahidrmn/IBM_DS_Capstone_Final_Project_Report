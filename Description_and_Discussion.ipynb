{
 "cells": [
  {
   "cell_type": "markdown",
   "metadata": {},
   "source": [
    "**Capstone Final Project**<br>\n",
    "Professional Data Science Certificate by IBM/Coursera"
   ]
  },
  {
   "cell_type": "markdown",
   "metadata": {},
   "source": [
    "1 ) A description of the problem and a discussion of the background. (15 marks)"
   ]
  },
  {
   "cell_type": "markdown",
   "metadata": {},
   "source": [
    "**Introduction: Description and Discussion of the Background:** <a name=\"introduction\"></a>"
   ]
  },
  {
   "cell_type": "markdown",
   "metadata": {},
   "source": [
    "**1.1 Description:**\n",
    "\n",
    "**Project Title:** <h4>Finding the best location and neighborhood in Vancouver to establish Daily Convenient/Franchisee store which will be operated 24 Hours a Day (24/7).</h4>\n",
    "\n",
    "**Project Goal:**<br>\n",
    "This Project goal to make an analysis based on the neighborhoods , features and crime record of the borough in Vancouver for the Business Investor/Stakeholders/Small Business Owner / Franchisee Opener to invest money to open business to the best borough with neighborhood as a comparative analysis between neighborhoods. The features include according to ratings, crime rates of that particular area, road connectivity, weather conditions, good management for emergency, water resources both fresh and waste water and excrement conveyed in sewers and recreational facilities.\n",
    "This will guide to the investor to get awareness of the area and neighborhood before establishing the business to a new city, state, country or place for their daily convenient store to run 24/7.\n",
    "\n",
    "**1.2) Discussion of the Background:**<br>\n",
    "\n",
    "It will help Business Investor/Stakeholders/Small Business Owner / Franchisee Opener making smart and efficient decision on selecting great neighborhood out of numbers of other neighborhoods and borough in Vancouver , Canada where they can run the business safely 24/7 as per crime records and analysis.\n",
    "\n",
    "**1.3) Project Prepared For :**<br>\n",
    "\n",
    "Business Investor/Stakeholders/Small Business Owner / Franchisee Opener. \n",
    "Many Business Investor/Stakeholders/Small Business Owner / Franchisee Opener are investing and opening a retail business to various states of Canada they needed lots of research for good borough and neighborhoods for their investment. This project is for those Business Investor/Stakeholders/Small Business Owner / Franchisee Opener who are looking for better neighborhoods and safest borough in Vancouver. \n",
    "\n",
    "**1.4) Data Scientist role:**<br>\n",
    "\n",
    "Explore and analysis all neighborhood and borough in Vancouver, Canada and find out the best and safe location for open Retail business/Franchisee for establishment. \n",
    "\n",
    "**1.5) Data Science tools and Techniques are used for Problem Analysis:**<br>\n",
    "\n",
    "As part of analysis to choose the safest borough from crime data record, for opening a daily convenient store(24/7) and short listing a neighborhood, where this type of stores are not amongst in the most common venues, and as close to the city as possible.\n",
    "Following data science tools, techniques and libraries are going to be use to analyze data and focus on the safest borough and explore its neighborhoods, sorting top ten common venues in each neighborhood, where daily convenient stores (24/7) are not amongst in the most common venues.\n",
    "\n",
    "**1.6) The Location:**<br>\n",
    "\n",
    "Vancouver is a popular destination for Business Investor/Stakeholders/Small Business Owner / Franchisee Opener in Canada. As a result, it is one of the most diverse and multicultural area.\n",
    "**1.7) Foursquare API:**<br> \n",
    "\n",
    "Four-square API going to be use as its prime data gathering source as it has a database of millions of places, especially their places API which provides the ability to perform location search, location sharing and details about the business involvement.\n",
    "\n",
    "**1.8) Work Flow:**<br>\n",
    "\n",
    "Foursquare API using for sorting features of near-by places of the neighborhoods. Due to http request limitations from Foursquare API, the number of places per neighborhood parameter would reasonably be set to 100 and the radius parameter would be set to 500.\n",
    "\n",
    "**1.9) Clustering Approach:**<br>\n",
    "\n",
    "Unsupervised machine learning : k-means clustering algorithm going to be used for comparing the similarities of two cities, we decided to explore neighborhoods, segment them, and group them into clusters to find similar neighborhoods in a big city like Toronto and Montreal. \n",
    "\n",
    "**Libraries Which are Used to Develope the Project:**\n",
    "\n",
    "\n",
    "Pandas: For creating and manipulating dataframes.\n",
    "\n",
    "Foursquare API : it has a database of millions of places, especially their places API which provides the ability to perform location search, location sharing and details about the business involvement. \n",
    "\n",
    "Folium: Python visualization library would be used to visualize the neighborhoods cluster distribution of using interactive leaflet map.\n",
    "\n",
    "Scikit Learn: For importing k-means clustering.\n",
    "\n",
    "JSON: Library to handle JSON files.\n",
    "\n",
    "XML: To separate data from presentation and XML stores data in plain text format.\n",
    "\n",
    "Geocoder: To retrieve Location Data.\n",
    "\n",
    "Opencagedata: To retrieve Location Data.\n",
    "\n",
    "Beautiful Soup and Requests: To scrap and library to handle http requests.\n",
    "\n",
    "Matplotlib: Python Plotting Module.\n",
    "<br>\n",
    "<br>"
   ]
  }
 ],
 "metadata": {
  "kernelspec": {
   "display_name": "Python",
   "language": "python",
   "name": "conda-env-python-py"
  },
  "language_info": {
   "codemirror_mode": {
    "name": "ipython",
    "version": 3
   },
   "file_extension": ".py",
   "mimetype": "text/x-python",
   "name": "python",
   "nbconvert_exporter": "python",
   "pygments_lexer": "ipython3",
   "version": "3.6.10"
  }
 },
 "nbformat": 4,
 "nbformat_minor": 4
}
